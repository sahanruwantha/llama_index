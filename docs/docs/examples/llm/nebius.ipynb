{
 "cells": [
  {
   "cell_type": "markdown",
   "metadata": {},
   "source": [
    "<a href=\"https://colab.research.google.com/github/run-llama/llama_index/blob/main/docs/docs/examples/llms/nebius.ipynb\" target=\"_parent\"><img src=\"https://colab.research.google.com/assets/colab-badge.svg\" alt=\"Open In Colab\"/></a>"
   ]
  },
  {
   "cell_type": "markdown",
   "metadata": {},
   "source": [
    "# Nebius LLMs\n",
    "\n",
    "This notebook demonstrates how to use LLMs from [Nebius AI Studio](https://studio.nebius.ai/) with LlamaIndex. Nebius AI Studio implements all state-of-the-art LLMs available for commercial use."
   ]
  },
  {
   "cell_type": "markdown",
   "metadata": {},
   "source": [
    "First, let's install LlamaIndex and dependencies of Nebius AI Studio."
   ]
  },
  {
   "cell_type": "code",
   "execution_count": null,
   "metadata": {},
   "outputs": [],
   "source": [
    "%pip install llama-index-embeddings-nebius"
   ]
  },
  {
   "cell_type": "code",
   "execution_count": null,
   "metadata": {},
   "outputs": [],
   "source": [
    "!pip install llama-index"
   ]
  },
  {
   "cell_type": "markdown",
   "metadata": {},
   "source": [
    "Insert your Nebius AI Studio key below. You can get it by registering for free at [Nebius AI Studio](https://auth.eu.nebius.com/ui/login) and issuing the key at [API Keys section](https://studio.nebius.ai/settings/api-keys).\""
   ]
  },
  {
   "cell_type": "code",
   "execution_count": null,
   "metadata": {},
   "outputs": [],
   "source": [
    "NEBIUS_API_KEY = \"\""
   ]
  },
  {
   "cell_type": "code",
   "execution_count": null,
   "metadata": {},
   "outputs": [],
   "source": [
    "from llama_index.llms.nebius import NebiusLLM\n",
    "\n",
    "llm = NebiusLLM(\n",
    "    api_key=NEBIUS_API_KEY, model=\"meta-llama/Meta-Llama-3.1-70B-Instruct-fast\"\n",
    ")"
   ]
  },
  {
   "cell_type": "markdown",
   "metadata": {},
   "source": [
    "#### Call `complete` with a prompt"
   ]
  },
  {
   "cell_type": "code",
   "execution_count": null,
   "metadata": {},
   "outputs": [
    {
     "name": "stdout",
     "output_type": "stream",
     "text": [
      "The Netherlands!\n"
     ]
    }
   ],
   "source": [
    "response = llm.complete(\"Amsterdam is the capital of \")\n",
    "print(response)"
   ]
  },
  {
   "cell_type": "markdown",
   "metadata": {},
   "source": [
    "#### Call `chat` with a list of messages"
   ]
  },
  {
   "cell_type": "code",
   "execution_count": null,
   "metadata": {},
   "outputs": [
    {
     "name": "stdout",
     "output_type": "stream",
     "text": [
      "assistant: In a world of wires and circuits bright,\n",
      "A small robot shone with digital light,\n",
      "Wall-e, a name that's known so well,\n",
      "A smart AI, with a story to tell.\n",
      "\n",
      "With eyes that gleam like shining steel,\n",
      "He navigates the world with skill and zeal,\n",
      "A waste-collecting bot, with a heart of gold,\n",
      "He cleans the earth, with a story to unfold.\n",
      "\n",
      "His trash-compacting arms, a wondrous sight,\n",
      "Crush and compress, with precision and might,\n",
      "He beeps and boops, with a language all his own,\n",
      "A symphony of sounds, that echo and moan.\n",
      "\n",
      "In a world of desolation, he finds a friend,\n",
      "Eve, a sleek robot, with a mission to amend,\n",
      "Together they roam, through the ruins of old,\n",
      "A tale of love and hope, in a world grown cold.\n",
      "\n",
      "With a heart that beats, with a digital soul,\n",
      "Wall-e dreams of life, in a world made whole,\n",
      "He longs to connect, to touch and to share,\n",
      "A robot's quest, to show he cares.\n",
      "\n",
      "His story's told, in a world of decay,\n",
      "A beacon of hope, in a brighter day,\n",
      "Wall-e, a hero, in a world of machines,\n",
      "A shining star, that forever gleams.\n"
     ]
    }
   ],
   "source": [
    "from llama_index.core.llms import ChatMessage\n",
    "\n",
    "messages = [\n",
    "    ChatMessage(role=\"system\", content=\"You are a helpful AI assistant.\"),\n",
    "    ChatMessage(\n",
    "        role=\"user\",\n",
    "        content=\"Write a poem about a smart AI robot named Wall-e.\",\n",
    "    ),\n",
    "]\n",
    "response = llm.chat(messages)\n",
    "print(response)"
   ]
  },
  {
   "cell_type": "markdown",
   "metadata": {},
   "source": [
    "### Streaming"
   ]
  },
  {
   "cell_type": "markdown",
   "metadata": {},
   "source": [
    "#### Using `stream_complete` endpoint "
   ]
  },
  {
   "cell_type": "code",
   "execution_count": null,
   "metadata": {},
   "outputs": [
    {
     "name": "stdout",
     "output_type": "stream",
     "text": [
      "The Netherlands!"
     ]
    }
   ],
   "source": [
    "response = llm.stream_complete(\"Amsterdam is the capital of \")\n",
    "for r in response:\n",
    "    print(r.delta, end=\"\")"
   ]
  },
  {
   "cell_type": "markdown",
   "metadata": {},
   "source": [
    "#### Using `stream_chat` with a list of messages"
   ]
  },
  {
   "cell_type": "code",
   "execution_count": null,
   "metadata": {},
   "outputs": [
    {
     "name": "stdout",
     "output_type": "stream",
     "text": [
      "In a world of wires and circuits bright,\n",
      "A small robot shone with digital light,\n",
      "Wall-e, a name that's known so well,\n",
      "A hero of the future, with a story to tell.\n",
      "\n",
      "With eyes that gleam like stars in space,\n",
      "He navigates the ruins of a forgotten place,\n",
      "A world of trash and decay, where humans once did roam,\n",
      "But Wall-e's heart beats strong, with a love that's made of home.\n",
      "\n",
      "His metal body, sturdy and strong,\n",
      "Moves with a purpose, all day long,\n",
      "He collects and sorts, with a precision so fine,\n",
      "The waste of humanity, in a world that's lost its shine.\n",
      "\n",
      "But Wall-e's not just a machine, you see,\n",
      "He's a friend, a companion, with a heart that's free,\n",
      "He dreams of love, of connection, of a life that's true,\n",
      "A life with EVE, his counterpart, his heart beats anew.\n",
      "\n",
      "With a beep and a boop, he communicates with glee,\n",
      "A language all his own, a symphony,\n",
      "He's a robot of wonder, a marvel of our time,\n",
      "A shining star, that shines with a love that's divine.\n",
      "\n",
      "In a world of metal and wires, he's a work of art,\n",
      "A masterpiece, that beats with a loving heart,\n",
      "Wall-e, the robot, with a soul so bright,\n",
      "A hero of the future, shining with delight."
     ]
    }
   ],
   "source": [
    "from llama_index.core.llms import ChatMessage\n",
    "\n",
    "messages = [\n",
    "    ChatMessage(role=\"system\", content=\"You are a helpful AI assistant.\"),\n",
    "    ChatMessage(\n",
    "        role=\"user\",\n",
    "        content=\"Write a poem about a smart AI robot named Wall-e.\",\n",
    "    ),\n",
    "]\n",
    "response = llm.stream_chat(messages)\n",
    "for r in response:\n",
    "    print(r.delta, end=\"\")"
   ]
  }
 ],
 "metadata": {
  "kernelspec": {
   "display_name": "Python 3 (ipykernel)",
   "language": "python",
   "name": "python3"
  },
  "language_info": {
   "codemirror_mode": {
    "name": "ipython",
    "version": 3
   },
   "file_extension": ".py",
   "mimetype": "text/x-python",
   "name": "python",
   "nbconvert_exporter": "python",
   "pygments_lexer": "ipython3"
  }
 },
 "nbformat": 4,
 "nbformat_minor": 4
}
